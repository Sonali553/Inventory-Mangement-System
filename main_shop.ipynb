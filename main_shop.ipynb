{
  "nbformat": 4,
  "nbformat_minor": 0,
  "metadata": {
    "colab": {
      "name": "main_shop.ipynb",
      "provenance": [],
      "collapsed_sections": []
    },
    "kernelspec": {
      "name": "python3",
      "display_name": "Python 3"
    },
    "language_info": {
      "name": "python"
    }
  },
  "cells": [
    {
      "cell_type": "code",
      "metadata": {
        "id": "GsIBtgMdd35j"
      },
      "source": [
        "shop = {1001 : {'name': 'pen',\n",
        "                         'qty': 50,\n",
        "                         'price': 10,\n",
        "                         'Available':1,\n",
        "                         'Expiry':'5/10/2021'},\n",
        "                1002 : {'name': 'pencil',\n",
        "                         'qty': 100,\n",
        "                         'price': 5,\n",
        "                         'Available':1,\n",
        "                         'Expiry':'10/10/2021'},\n",
        "                1003 : {'name': 'book',\n",
        "                         'qty': 200,\n",
        "                         'price': 50,\n",
        "                         'Available':1,\n",
        "                         'Expiry':'5/11/2021'},\n",
        "                 1004 : {'name': 'notebook',\n",
        "                         'qty': 200,\n",
        "                         'price': 40,\n",
        "                         'Available':1,\n",
        "                         'Expiry':'10/11/2021'},\n",
        "                 1005 : {'name': 'Guide',\n",
        "                         'qty': 20,\n",
        "                         'price': 100,\n",
        "                         'Available':1,\n",
        "                         'Expiry':'15/10/2021'},\n",
        "                 1006 : {'name': 'chart',\n",
        "                         'qty': 50,\n",
        "                         'price': 20,'Available':1,\n",
        "                         'Expiry':'5/10/2022'},\n",
        "                 1007 : {'name': 'map',\n",
        "                         'qty': 50,\n",
        "                         'price': 10,\n",
        "                         'Available':1,\n",
        "                         'Expiry':'5/1/2021'},\n",
        "                 1008 : {'name': 'graph',\n",
        "                         'qty': 50,\n",
        "                         'price': 2,\n",
        "                         'Available':1,\n",
        "                         'Expiry':'20/10/2021'},\n",
        "                 1009 : {'name': 'melody',\n",
        "                         'qty': 500,\n",
        "                         'price': 1,\n",
        "                         'Available':1,\n",
        "                         'Expiry':'5/12/2021'},\n",
        "                 1010 : {'name': 'mango bite',\n",
        "                         'qty': 300,\n",
        "                         'price': 1,\n",
        "                         'Available':1,\n",
        "                         'Expiry':'5/10/2022'},\n",
        "                 1011 : {'name': 'popins',\n",
        "                         'qty': 100,\n",
        "                         'price': 5,\n",
        "                         'Available':1,\n",
        "                         'Expiry':'15/10/2022'},\n",
        "                 1012 : {'name': 'little hearts',\n",
        "                         'qty': 100,\n",
        "                         'price': 5,\n",
        "                         'Available':1,\n",
        "                         'Expiry':'15/4/2022'},\n",
        "                 1013 : {'name': 'banana chips',\n",
        "                         'qty': 80,\n",
        "                         'price': 5,\n",
        "                         'Available':1,\n",
        "                         'Expiry':'15/9/2022'},\n",
        "                 1014 : {'name': 'potato chips',\n",
        "                         'qty': 100,\n",
        "                         'price': 5,\n",
        "                         'Available':1,\n",
        "                         'Expiry':'1/10/2022'},\n",
        "              1015 : {'name': 'wheel',\n",
        "                         'qty': 10,\n",
        "                         'price': 500,\n",
        "                         'Available':1,\n",
        "                         'Expiry':'15/1/2022'},\n",
        "                 1016 : {'name': 'screw driver',\n",
        "                         'qty': 50,\n",
        "                         'price': 15,\n",
        "                         'Available':1,\n",
        "                         'Expiry':'15/7/2021'},\n",
        "                 1017 : {'name': 'scisors',\n",
        "                         'qty': 100,\n",
        "                         'price': 20,\n",
        "                         'Available':1,\n",
        "                         'Expiry':'15/10/2023'},\n",
        "                 1018 : {'name': 'lighter',\n",
        "                         'qty': 10,\n",
        "                         'price': 50,\n",
        "                         'Available':1,\n",
        "                         'Expiry':'1/5/2022'},\n",
        "                 1019 : {'name': 'charger',\n",
        "                         'qty': 30,\n",
        "                         'price': 200,\n",
        "                         'Available':1,\n",
        "                         'Expiry':'15/1/2024'},\n",
        "                 1020 : {'name': 'mobile',\n",
        "                         'qty': 25,\n",
        "                         'price': 10000,\n",
        "                         'Available':1,\n",
        "                         'Expiry':'1/1/2025'},\n",
        "                 1021 : {'name': 'headphone',\n",
        "                         'qty': 30,\n",
        "                         'price': 1000,\n",
        "                         'Available':1,\n",
        "                         'Expiry':'1/1/2025'},\n",
        "              1023 : {'name': 'mouse',\n",
        "                         'qty': 20,\n",
        "                         'price': 1000,\n",
        "                         'Available':1,\n",
        "                         'Expiry':'1/1/2025'},\n",
        "                 1024 : {'name': 'project paper',\n",
        "                         'qty': 500,\n",
        "                         'price': 1,\n",
        "                         'Available':1,\n",
        "                         'Expiry':'1/10/2024'},\n",
        "                 1025 : {'name': 'board',\n",
        "                         'qty': 10,\n",
        "                         'price': 300,\n",
        "                         'Available':1,\n",
        "                         'Expiry':'1/10/2025'},\n",
        "                 1026 : {'name': 'battery',\n",
        "                         'qty': 20,\n",
        "                         'price': 200,\n",
        "                         'Available':1,\n",
        "                         'Expiry':'19/1/2022'},\n",
        "                 1027 : {'name': 'cell',\n",
        "                         'qty': 50,\n",
        "                         'price': 10,\n",
        "                         'Available':1,\n",
        "                         'Expiry':'1/1/2021'},\n",
        "                 1028 : {'name': 'bag',\n",
        "                         'qty': 20,\n",
        "                         'price': 100,\n",
        "                         'Available':1,\n",
        "                         'Expiry':'1/10/2023'},\n",
        "                 1029 : {'name': 'purse',\n",
        "                         'qty': 30,\n",
        "                         'price': 150,\n",
        "                         'Available':1,\n",
        "                         'Expiry':'1/1/2025'},\n",
        "                 1030 : {'name': 'wallet',\n",
        "                         'qty': 30,\n",
        "                         'price': 100,\n",
        "                         'Available':1,\n",
        "                         'Expiry':'1/1/2025'}}\n",
        "                 \n",
        "                         \n",
        "                 \n",
        "                         "
      ],
      "execution_count": 17,
      "outputs": []
    },
    {
      "cell_type": "code",
      "metadata": {
        "colab": {
          "base_uri": "https://localhost:8080/",
          "height": 120
        },
        "id": "zszfvaY4wJ0n",
        "outputId": "fa053d19-9fde-4834-a3dd-b18ecf6fc6c4"
      },
      "source": [
        "import json\n",
        "data = json.dumps(shop)\n",
        "\n",
        "fp = open(\"Record.txt\", \"w\")\n",
        "fp.write(data)\n",
        "fp.close()\n",
        "\n",
        "fp = open(\"Record.txt\", \"r\")\n",
        "txt = fp.read()\n",
        "fp.close()\n",
        "\n",
        "txt\n",
        "\n"
      ],
      "execution_count": 22,
      "outputs": [
        {
          "output_type": "execute_result",
          "data": {
            "application/vnd.google.colaboratory.intrinsic+json": {
              "type": "string"
            },
            "text/plain": [
              "'{\"1001\": {\"name\": \"pen\", \"qty\": 50, \"price\": 10, \"Available\": 1, \"Expiry\": \"5/10/2021\"}, \"1002\": {\"name\": \"pencil\", \"qty\": 100, \"price\": 5, \"Available\": 1, \"Expiry\": \"10/10/2021\"}, \"1003\": {\"name\": \"book\", \"qty\": 200, \"price\": 50, \"Available\": 1, \"Expiry\": \"5/11/2021\"}, \"1004\": {\"name\": \"notebook\", \"qty\": 200, \"price\": 40, \"Available\": 1, \"Expiry\": \"10/11/2021\"}, \"1005\": {\"name\": \"Guide\", \"qty\": 20, \"price\": 100, \"Available\": 1, \"Expiry\": \"15/10/2021\"}, \"1006\": {\"name\": \"chart\", \"qty\": 50, \"price\": 20, \"Available\": 1, \"Expiry\": \"5/10/2022\"}, \"1007\": {\"name\": \"map\", \"qty\": 50, \"price\": 10, \"Available\": 1, \"Expiry\": \"5/1/2021\"}, \"1008\": {\"name\": \"graph\", \"qty\": 50, \"price\": 2, \"Available\": 1, \"Expiry\": \"20/10/2021\"}, \"1009\": {\"name\": \"melody\", \"qty\": 500, \"price\": 1, \"Available\": 1, \"Expiry\": \"5/12/2021\"}, \"1010\": {\"name\": \"mango bite\", \"qty\": 300, \"price\": 1, \"Available\": 1, \"Expiry\": \"5/10/2022\"}, \"1011\": {\"name\": \"popins\", \"qty\": 100, \"price\": 5, \"Available\": 1, \"Expiry\": \"15/10/2022\"}, \"1012\": {\"name\": \"little hearts\", \"qty\": 100, \"price\": 5, \"Available\": 1, \"Expiry\": \"15/4/2022\"}, \"1013\": {\"name\": \"banana chips\", \"qty\": 80, \"price\": 5, \"Available\": 1, \"Expiry\": \"15/9/2022\"}, \"1014\": {\"name\": \"potato chips\", \"qty\": 100, \"price\": 5, \"Available\": 1, \"Expiry\": \"1/10/2022\"}, \"1015\": {\"name\": \"wheel\", \"qty\": 10, \"price\": 500, \"Available\": 1, \"Expiry\": \"15/1/2022\"}, \"1016\": {\"name\": \"screw driver\", \"qty\": 50, \"price\": 15, \"Available\": 1, \"Expiry\": \"15/7/2021\"}, \"1017\": {\"name\": \"scisors\", \"qty\": 100, \"price\": 20, \"Available\": 1, \"Expiry\": \"15/10/2023\"}, \"1018\": {\"name\": \"lighter\", \"qty\": 10, \"price\": 50, \"Available\": 1, \"Expiry\": \"1/5/2022\"}, \"1019\": {\"name\": \"charger\", \"qty\": 30, \"price\": 200, \"Available\": 1, \"Expiry\": \"15/1/2024\"}, \"1020\": {\"name\": \"mobile\", \"qty\": 25, \"price\": 10000, \"Available\": 1, \"Expiry\": \"1/1/2025\"}, \"1021\": {\"name\": \"headphone\", \"qty\": 30, \"price\": 1000, \"Available\": 1, \"Expiry\": \"1/1/2025\"}, \"1023\": {\"name\": \"mouse\", \"qty\": 20, \"price\": 1000, \"Available\": 1, \"Expiry\": \"1/1/2025\"}, \"1024\": {\"name\": \"project paper\", \"qty\": 500, \"price\": 1, \"Available\": 1, \"Expiry\": \"1/10/2024\"}, \"1025\": {\"name\": \"board\", \"qty\": 10, \"price\": 300, \"Available\": 1, \"Expiry\": \"1/10/2025\"}, \"1026\": {\"name\": \"battery\", \"qty\": 20, \"price\": 200, \"Available\": 1, \"Expiry\": \"19/1/2022\"}, \"1027\": {\"name\": \"cell\", \"qty\": 50, \"price\": 10, \"Available\": 1, \"Expiry\": \"1/1/2021\"}, \"1028\": {\"name\": \"bag\", \"qty\": 20, \"price\": 100, \"Available\": 1, \"Expiry\": \"1/10/2023\"}, \"1029\": {\"name\": \"purse\", \"qty\": 30, \"price\": 150, \"Available\": 1, \"Expiry\": \"1/1/2025\"}, \"1030\": {\"name\": \"wallet\", \"qty\": 30, \"price\": 100, \"Available\": 1, \"Expiry\": \"1/1/2025\"}}'"
            ]
          },
          "metadata": {},
          "execution_count": 22
        }
      ]
    },
    {
      "cell_type": "code",
      "metadata": {
        "colab": {
          "base_uri": "https://localhost:8080/"
        },
        "id": "C9qip5DS4mx_",
        "outputId": "e5944bde-4ef9-4cfe-fdc6-2a7cc0640638"
      },
      "source": [
        "shop[1009]"
      ],
      "execution_count": 21,
      "outputs": [
        {
          "output_type": "execute_result",
          "data": {
            "text/plain": [
              "{'Available': 1,\n",
              " 'Expiry': '5/12/2021',\n",
              " 'name': 'melody',\n",
              " 'price': 1,\n",
              " 'qty': 500}"
            ]
          },
          "metadata": {},
          "execution_count": 21
        }
      ]
    },
    {
      "cell_type": "code",
      "metadata": {
        "id": "2coBNsdc5f88"
      },
      "source": [
        "shop[1002]['qty']= 50"
      ],
      "execution_count": 23,
      "outputs": []
    },
    {
      "cell_type": "code",
      "metadata": {
        "colab": {
          "base_uri": "https://localhost:8080/"
        },
        "id": "kmeoT7Te5sDG",
        "outputId": "ebffeb31-0a9c-4544-fcd8-94e068a40265"
      },
      "source": [
        "item_details= 1019\n",
        "print(shop[item_details]['name'])\n",
        "print(shop[item_details]['price'])\n",
        "print(shop[item_details]['qty'])\n",
        "print(shop[item_details]['Expiry'])\n",
        "print(shop[item_details]['Available'])\n",
        "\n",
        "len(shop)"
      ],
      "execution_count": 25,
      "outputs": [
        {
          "output_type": "stream",
          "name": "stdout",
          "text": [
            "charger\n",
            "200\n",
            "30\n",
            "15/1/2024\n",
            "1\n"
          ]
        },
        {
          "output_type": "execute_result",
          "data": {
            "text/plain": [
              "29"
            ]
          },
          "metadata": {},
          "execution_count": 25
        }
      ]
    },
    {
      "cell_type": "code",
      "metadata": {
        "colab": {
          "base_uri": "https://localhost:8080/"
        },
        "id": "qTvsYRiW6NDN",
        "outputId": "97fb5abc-0c65-46d4-aec1-122ca4801acd"
      },
      "source": [
        "shop[1002]['qty'] = shop[1002]['qty'] - 5\n",
        "\n",
        "shop[1002]['qty']\n",
        "\n",
        "\n",
        "shop[1025]['qty']= shop[1025]['qty'] - 3\n",
        "\n",
        "shop[1025]['qty']\n",
        "\n",
        "\n"
      ],
      "execution_count": 30,
      "outputs": [
        {
          "output_type": "execute_result",
          "data": {
            "text/plain": [
              "-2"
            ]
          },
          "metadata": {},
          "execution_count": 30
        }
      ]
    },
    {
      "cell_type": "code",
      "metadata": {
        "colab": {
          "base_uri": "https://localhost:8080/"
        },
        "id": "KCSxW1Ca65VJ",
        "outputId": "7af57b62-32c3-4fbf-c49d-1848a2a9b5af"
      },
      "source": [
        "shop"
      ],
      "execution_count": 31,
      "outputs": [
        {
          "output_type": "execute_result",
          "data": {
            "text/plain": [
              "{1001: {'Available': 1,\n",
              "  'Expiry': '5/10/2021',\n",
              "  'name': 'pen',\n",
              "  'price': 10,\n",
              "  'qty': 50},\n",
              " 1002: {'Available': 1,\n",
              "  'Expiry': '10/10/2021',\n",
              "  'name': 'pencil',\n",
              "  'price': 5,\n",
              "  'qty': 80},\n",
              " 1003: {'Available': 1,\n",
              "  'Expiry': '5/11/2021',\n",
              "  'name': 'book',\n",
              "  'price': 50,\n",
              "  'qty': 200},\n",
              " 1004: {'Available': 1,\n",
              "  'Expiry': '10/11/2021',\n",
              "  'name': 'notebook',\n",
              "  'price': 40,\n",
              "  'qty': 200},\n",
              " 1005: {'Available': 1,\n",
              "  'Expiry': '15/10/2021',\n",
              "  'name': 'Guide',\n",
              "  'price': 100,\n",
              "  'qty': 20},\n",
              " 1006: {'Available': 1,\n",
              "  'Expiry': '5/10/2022',\n",
              "  'name': 'chart',\n",
              "  'price': 20,\n",
              "  'qty': 50},\n",
              " 1007: {'Available': 1,\n",
              "  'Expiry': '5/1/2021',\n",
              "  'name': 'map',\n",
              "  'price': 10,\n",
              "  'qty': 50},\n",
              " 1008: {'Available': 1,\n",
              "  'Expiry': '20/10/2021',\n",
              "  'name': 'graph',\n",
              "  'price': 2,\n",
              "  'qty': 50},\n",
              " 1009: {'Available': 1,\n",
              "  'Expiry': '5/12/2021',\n",
              "  'name': 'melody',\n",
              "  'price': 1,\n",
              "  'qty': 500},\n",
              " 1010: {'Available': 1,\n",
              "  'Expiry': '5/10/2022',\n",
              "  'name': 'mango bite',\n",
              "  'price': 1,\n",
              "  'qty': 300},\n",
              " 1011: {'Available': 1,\n",
              "  'Expiry': '15/10/2022',\n",
              "  'name': 'popins',\n",
              "  'price': 5,\n",
              "  'qty': 100},\n",
              " 1012: {'Available': 1,\n",
              "  'Expiry': '15/4/2022',\n",
              "  'name': 'little hearts',\n",
              "  'price': 5,\n",
              "  'qty': 100},\n",
              " 1013: {'Available': 1,\n",
              "  'Expiry': '15/9/2022',\n",
              "  'name': 'banana chips',\n",
              "  'price': 5,\n",
              "  'qty': 80},\n",
              " 1014: {'Available': 1,\n",
              "  'Expiry': '1/10/2022',\n",
              "  'name': 'potato chips',\n",
              "  'price': 5,\n",
              "  'qty': 100},\n",
              " 1015: {'Available': 1,\n",
              "  'Expiry': '15/1/2022',\n",
              "  'name': 'wheel',\n",
              "  'price': 500,\n",
              "  'qty': 10},\n",
              " 1016: {'Available': 1,\n",
              "  'Expiry': '15/7/2021',\n",
              "  'name': 'screw driver',\n",
              "  'price': 15,\n",
              "  'qty': 50},\n",
              " 1017: {'Available': 1,\n",
              "  'Expiry': '15/10/2023',\n",
              "  'name': 'scisors',\n",
              "  'price': 20,\n",
              "  'qty': 100},\n",
              " 1018: {'Available': 1,\n",
              "  'Expiry': '1/5/2022',\n",
              "  'name': 'lighter',\n",
              "  'price': 50,\n",
              "  'qty': 10},\n",
              " 1019: {'Available': 1,\n",
              "  'Expiry': '15/1/2024',\n",
              "  'name': 'charger',\n",
              "  'price': 200,\n",
              "  'qty': 30},\n",
              " 1020: {'Available': 1,\n",
              "  'Expiry': '1/1/2025',\n",
              "  'name': 'mobile',\n",
              "  'price': 10000,\n",
              "  'qty': 25},\n",
              " 1021: {'Available': 1,\n",
              "  'Expiry': '1/1/2025',\n",
              "  'name': 'headphone',\n",
              "  'price': 1000,\n",
              "  'qty': 30},\n",
              " 1023: {'Available': 1,\n",
              "  'Expiry': '1/1/2025',\n",
              "  'name': 'mouse',\n",
              "  'price': 1000,\n",
              "  'qty': 20},\n",
              " 1024: {'Available': 1,\n",
              "  'Expiry': '1/10/2024',\n",
              "  'name': 'project paper',\n",
              "  'price': 1,\n",
              "  'qty': 500},\n",
              " 1025: {'Available': 1,\n",
              "  'Expiry': '1/10/2025',\n",
              "  'name': 'board',\n",
              "  'price': 300,\n",
              "  'qty': -2},\n",
              " 1026: {'Available': 1,\n",
              "  'Expiry': '19/1/2022',\n",
              "  'name': 'battery',\n",
              "  'price': 200,\n",
              "  'qty': 20},\n",
              " 1027: {'Available': 1,\n",
              "  'Expiry': '1/1/2021',\n",
              "  'name': 'cell',\n",
              "  'price': 10,\n",
              "  'qty': 50},\n",
              " 1028: {'Available': 1,\n",
              "  'Expiry': '1/10/2023',\n",
              "  'name': 'bag',\n",
              "  'price': 100,\n",
              "  'qty': 20},\n",
              " 1029: {'Available': 1,\n",
              "  'Expiry': '1/1/2025',\n",
              "  'name': 'purse',\n",
              "  'price': 150,\n",
              "  'qty': 30},\n",
              " 1030: {'Available': 1,\n",
              "  'Expiry': '1/1/2025',\n",
              "  'name': 'wallet',\n",
              "  'price': 100,\n",
              "  'qty': 30}}"
            ]
          },
          "metadata": {},
          "execution_count": 31
        }
      ]
    },
    {
      "cell_type": "code",
      "metadata": {
        "colab": {
          "base_uri": "https://localhost:8080/"
        },
        "id": "FJuykOWY7FPp",
        "outputId": "caeb37ff-9c14-4989-a5bd-8f64bf9b1cd0"
      },
      "source": [
        "prod_id = input(\"Enter the Product ID: \")\n",
        "name = input(\"Enter the Name of the Product: \")\n",
        "price = int(input(\"Enter the price per Item: \"))\n",
        "qty = int(input(\"Enter The Quantity of the Product you want to add: \"))\n",
        "Expiry = input(\"Enter the expiry date of the Product: \")\n",
        "Available = input(\"Enter the Product is available or not: \")\n",
        "\n",
        "shop[prod_id] = {\"name\":name,\"price\":price,\"qty\":qty,\"Expiry\":Expiry,\"Available\":Available}\n",
        "\n",
        "js = json.dumps(shop)\n",
        "\n",
        "fd = open(\"shop.json\",\"w\")\n",
        "fd.write(js)\n",
        "fd.close()"
      ],
      "execution_count": 34,
      "outputs": [
        {
          "name": "stdout",
          "output_type": "stream",
          "text": [
            "Enter the Product ID: 1031\n",
            "Enter the Name of the Product: shoe lace\n",
            "Enter the price per Item: 2\n",
            "Enter The Quantity of the Product you want to add: 20\n",
            "Enter the expiry date of the Product: 01/01/2029\n",
            "Enter the Product is available or not: 2\n"
          ]
        }
      ]
    },
    {
      "cell_type": "code",
      "metadata": {
        "colab": {
          "base_uri": "https://localhost:8080/"
        },
        "id": "TXoRAWpK7xZw",
        "outputId": "49deb5fc-bc3a-4bcf-927f-3e106f797449"
      },
      "source": [
        "shop"
      ],
      "execution_count": 35,
      "outputs": [
        {
          "output_type": "execute_result",
          "data": {
            "text/plain": [
              "{1001: {'Available': 1,\n",
              "  'Expiry': '5/10/2021',\n",
              "  'name': 'pen',\n",
              "  'price': 10,\n",
              "  'qty': 50},\n",
              " 1002: {'Available': 1,\n",
              "  'Expiry': '10/10/2021',\n",
              "  'name': 'pencil',\n",
              "  'price': 5,\n",
              "  'qty': 80},\n",
              " 1003: {'Available': 1,\n",
              "  'Expiry': '5/11/2021',\n",
              "  'name': 'book',\n",
              "  'price': 50,\n",
              "  'qty': 200},\n",
              " 1004: {'Available': 1,\n",
              "  'Expiry': '10/11/2021',\n",
              "  'name': 'notebook',\n",
              "  'price': 40,\n",
              "  'qty': 200},\n",
              " 1005: {'Available': 1,\n",
              "  'Expiry': '15/10/2021',\n",
              "  'name': 'Guide',\n",
              "  'price': 100,\n",
              "  'qty': 20},\n",
              " 1006: {'Available': 1,\n",
              "  'Expiry': '5/10/2022',\n",
              "  'name': 'chart',\n",
              "  'price': 20,\n",
              "  'qty': 50},\n",
              " 1007: {'Available': 1,\n",
              "  'Expiry': '5/1/2021',\n",
              "  'name': 'map',\n",
              "  'price': 10,\n",
              "  'qty': 50},\n",
              " 1008: {'Available': 1,\n",
              "  'Expiry': '20/10/2021',\n",
              "  'name': 'graph',\n",
              "  'price': 2,\n",
              "  'qty': 50},\n",
              " 1009: {'Available': 1,\n",
              "  'Expiry': '5/12/2021',\n",
              "  'name': 'melody',\n",
              "  'price': 1,\n",
              "  'qty': 500},\n",
              " 1010: {'Available': 1,\n",
              "  'Expiry': '5/10/2022',\n",
              "  'name': 'mango bite',\n",
              "  'price': 1,\n",
              "  'qty': 300},\n",
              " 1011: {'Available': 1,\n",
              "  'Expiry': '15/10/2022',\n",
              "  'name': 'popins',\n",
              "  'price': 5,\n",
              "  'qty': 100},\n",
              " 1012: {'Available': 1,\n",
              "  'Expiry': '15/4/2022',\n",
              "  'name': 'little hearts',\n",
              "  'price': 5,\n",
              "  'qty': 100},\n",
              " 1013: {'Available': 1,\n",
              "  'Expiry': '15/9/2022',\n",
              "  'name': 'banana chips',\n",
              "  'price': 5,\n",
              "  'qty': 80},\n",
              " 1014: {'Available': 1,\n",
              "  'Expiry': '1/10/2022',\n",
              "  'name': 'potato chips',\n",
              "  'price': 5,\n",
              "  'qty': 100},\n",
              " 1015: {'Available': 1,\n",
              "  'Expiry': '15/1/2022',\n",
              "  'name': 'wheel',\n",
              "  'price': 500,\n",
              "  'qty': 10},\n",
              " 1016: {'Available': 1,\n",
              "  'Expiry': '15/7/2021',\n",
              "  'name': 'screw driver',\n",
              "  'price': 15,\n",
              "  'qty': 50},\n",
              " 1017: {'Available': 1,\n",
              "  'Expiry': '15/10/2023',\n",
              "  'name': 'scisors',\n",
              "  'price': 20,\n",
              "  'qty': 100},\n",
              " 1018: {'Available': 1,\n",
              "  'Expiry': '1/5/2022',\n",
              "  'name': 'lighter',\n",
              "  'price': 50,\n",
              "  'qty': 10},\n",
              " 1019: {'Available': 1,\n",
              "  'Expiry': '15/1/2024',\n",
              "  'name': 'charger',\n",
              "  'price': 200,\n",
              "  'qty': 30},\n",
              " 1020: {'Available': 1,\n",
              "  'Expiry': '1/1/2025',\n",
              "  'name': 'mobile',\n",
              "  'price': 10000,\n",
              "  'qty': 25},\n",
              " 1021: {'Available': 1,\n",
              "  'Expiry': '1/1/2025',\n",
              "  'name': 'headphone',\n",
              "  'price': 1000,\n",
              "  'qty': 30},\n",
              " 1023: {'Available': 1,\n",
              "  'Expiry': '1/1/2025',\n",
              "  'name': 'mouse',\n",
              "  'price': 1000,\n",
              "  'qty': 20},\n",
              " 1024: {'Available': 1,\n",
              "  'Expiry': '1/10/2024',\n",
              "  'name': 'project paper',\n",
              "  'price': 1,\n",
              "  'qty': 500},\n",
              " 1025: {'Available': 1,\n",
              "  'Expiry': '1/10/2025',\n",
              "  'name': 'board',\n",
              "  'price': 300,\n",
              "  'qty': -2},\n",
              " 1026: {'Available': 1,\n",
              "  'Expiry': '19/1/2022',\n",
              "  'name': 'battery',\n",
              "  'price': 200,\n",
              "  'qty': 20},\n",
              " 1027: {'Available': 1,\n",
              "  'Expiry': '1/1/2021',\n",
              "  'name': 'cell',\n",
              "  'price': 10,\n",
              "  'qty': 50},\n",
              " 1028: {'Available': 1,\n",
              "  'Expiry': '1/10/2023',\n",
              "  'name': 'bag',\n",
              "  'price': 100,\n",
              "  'qty': 20},\n",
              " 1029: {'Available': 1,\n",
              "  'Expiry': '1/1/2025',\n",
              "  'name': 'purse',\n",
              "  'price': 150,\n",
              "  'qty': 30},\n",
              " 1030: {'Available': 1,\n",
              "  'Expiry': '1/1/2025',\n",
              "  'name': 'wallet',\n",
              "  'price': 100,\n",
              "  'qty': 30},\n",
              " '1031': {'Available': '2',\n",
              "  'Expiry': '01/01/2029',\n",
              "  'name': 'shoe lace',\n",
              "  'price': 2,\n",
              "  'qty': 20}}"
            ]
          },
          "metadata": {},
          "execution_count": 35
        }
      ]
    },
    {
      "cell_type": "code",
      "metadata": {
        "colab": {
          "base_uri": "https://localhost:8080/"
        },
        "id": "yCpNBZJQ8284",
        "outputId": "03a3e038-8042-4682-b641-8dd9184c17ee"
      },
      "source": [
        "len(shop)"
      ],
      "execution_count": 36,
      "outputs": [
        {
          "output_type": "execute_result",
          "data": {
            "text/plain": [
              "30"
            ]
          },
          "metadata": {},
          "execution_count": 36
        }
      ]
    }
  ]
}